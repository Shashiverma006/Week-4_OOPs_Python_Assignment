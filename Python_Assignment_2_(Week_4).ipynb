{
  "nbformat": 4,
  "nbformat_minor": 0,
  "metadata": {
    "colab": {
      "provenance": [],
      "cell_execution_strategy": "setup"
    },
    "kernelspec": {
      "name": "python3",
      "display_name": "Python 3"
    },
    "language_info": {
      "name": "python"
    }
  },
  "cells": [
    {
      "cell_type": "markdown",
      "source": [
        "Q1. Explain class and object with respect to Object-Oriented Programin. Give a suitable example."
      ],
      "metadata": {
        "id": "9uLnqka2KGcm"
      }
    },
    {
      "cell_type": "markdown",
      "source": [
        "Ans:- Python is a versatile programming language that supports various programming styles, including object-oriented programming (OOP) through the use of objects and classes.\n",
        "\n",
        "An object is any entity that has attributes and behaviors. For example, a baby is an object. It has\n",
        "\n",
        "attributes - name, age, color, etc.\n",
        "behavior - dancing, singing, weeping, crying etc.\n",
        "Similarly, a class is a blueprint for that object."
      ],
      "metadata": {
        "id": "oPX4yLMJKUgT"
      }
    },
    {
      "cell_type": "code",
      "source": [
        "class Baby:\n",
        "\n",
        "    # class attribute\n",
        "    name = \"\"\n",
        "    age = 0\n",
        "\n",
        "# create baby1 object\n",
        "baby1 = Baby()\n",
        "baby1.name = \"Kali\"\n",
        "baby1.age = 2\n",
        "\n",
        "# create another object baby2\n",
        "baby2 = Baby()\n",
        "baby2.name = \"Pankhudi\"\n",
        "baby2.age = 5\n",
        "\n",
        "# access attributes\n",
        "print(f\"{baby1.name} is {baby1.age} years old\")\n",
        "print(f\"{baby2.name} is {baby2.age} years old\")"
      ],
      "metadata": {
        "colab": {
          "base_uri": "https://localhost:8080/",
          "height": 0
        },
        "id": "t0L-zAhIN9kH",
        "outputId": "18b132da-bb7e-4f62-9593-24d1fbc29469"
      },
      "execution_count": 1,
      "outputs": [
        {
          "output_type": "stream",
          "name": "stdout",
          "text": [
            "Kali is 2 years old\n",
            "Pankhudi is 5 years old\n"
          ]
        }
      ]
    },
    {
      "cell_type": "markdown",
      "source": [
        "Q2. Name the four pillars of OOPs."
      ],
      "metadata": {
        "id": "YeKzRZq2O0GI"
      }
    },
    {
      "cell_type": "markdown",
      "source": [
        "Ans:- The four pillars of OOPs are:\n",
        "1. Inheritance\n",
        "2. Polymorphism\n",
        "3. Encapsulation\n",
        "4. Abstraction."
      ],
      "metadata": {
        "id": "vLrOykBNPXtL"
      }
    },
    {
      "cell_type": "markdown",
      "source": [
        "Q3. Explain why the__Init__() function is used. Give a suitable example."
      ],
      "metadata": {
        "id": "z3jGtkEMQEvL"
      }
    },
    {
      "cell_type": "markdown",
      "source": [
        "Ans:- When we hide the properites of any function to the users which they cannot be access or modify or change the properties, we can use the __Inint__() function. The __init__() function is called automatically every time the class is being used to create a new object."
      ],
      "metadata": {
        "id": "QScl_Q5jQRTs"
      }
    },
    {
      "cell_type": "code",
      "source": [
        "class Person:\n",
        "  def __init__(self, name, age, nature):\n",
        "    self.name = name\n",
        "    self.age = age\n",
        "    self.nature = nature\n",
        "\n",
        "baby1 = Person(\"Anaya Verma\", 2 , \"Naughty\")\n",
        "\n",
        "print(baby1.name)\n",
        "print(baby1.age)\n",
        "print(baby1.nature)"
      ],
      "metadata": {
        "colab": {
          "base_uri": "https://localhost:8080/",
          "height": 0
        },
        "id": "aEFOLURCSJC4",
        "outputId": "6297c772-6607-4ce1-b5ad-525b6d50fe3d"
      },
      "execution_count": 7,
      "outputs": [
        {
          "output_type": "stream",
          "name": "stdout",
          "text": [
            "Anaya Verma\n",
            "2\n",
            "Naughty\n"
          ]
        }
      ]
    },
    {
      "cell_type": "markdown",
      "source": [
        "Q4. Why self is used in OOPs?"
      ],
      "metadata": {
        "id": "WUyfwRILTezf"
      }
    },
    {
      "cell_type": "markdown",
      "source": [
        "Ans:- \"Self\" is a keywod that denote as like a pointer. This pointer, class understood that given data is inside the class method.In other words \"The self variable is used to represent the instance of the class which is often used in object-oriented programming. It works as a reference to the object. Python uses the self parameter to refer to instance attributes and methods of the class.\"\n"
      ],
      "metadata": {
        "id": "CVyfRCsvTkpw"
      }
    },
    {
      "cell_type": "markdown",
      "source": [
        "Q5. What is inheritance? give an example for each type of inheritance."
      ],
      "metadata": {
        "id": "EFoEP5hWUryd"
      }
    },
    {
      "cell_type": "markdown",
      "source": [
        "Ans:- Inheritance is a method to take the data to another maked class. For example if class2 take data from class1 and class 3 three take data from class1 of class 2 or both clases that is called multiple Inheritance. Such as child class take data from parent class that also called inheritance.\n",
        "  In other words \"Inheritance is a way of creating a new class for using details of an existing class without modifying it. The newly formed class is a derived class (or child class). Similarly, the existing class is a base class (or parent class).\""
      ],
      "metadata": {
        "id": "x6vjhaIfVCHa"
      }
    },
    {
      "cell_type": "code",
      "source": [
        "# Parent class\n",
        "class Animal:\n",
        "\n",
        "    def eat(self):\n",
        "        print( \"I can eat!\")\n",
        "\n",
        "    def sleep(self):\n",
        "        print(\"I can sleep!\")\n",
        "\n",
        "# Child class\n",
        "class Dog(Animal):\n",
        "\n",
        "    def bark(self):\n",
        "        print(\"I can bark! Woof woof!!\")\n",
        "\n",
        "# Create object of the Dog class\n",
        "dog1 = Dog()\n",
        "\n",
        "# Calling members of the base class\n",
        "dog1.eat()\n",
        "dog1.sleep()\n",
        "\n",
        "# Calling member of the derived class\n",
        "dog1.bark();"
      ],
      "metadata": {
        "colab": {
          "base_uri": "https://localhost:8080/",
          "height": 0
        },
        "id": "t-7xjHy5WVQe",
        "outputId": "2cdd9363-cc23-4a5d-a0bd-20cc8b2d882c"
      },
      "execution_count": 9,
      "outputs": [
        {
          "output_type": "stream",
          "name": "stdout",
          "text": [
            "I can eat!\n",
            "I can sleep!\n",
            "I can bark! Woof woof!!\n"
          ]
        }
      ]
    }
  ]
}